{
  "nbformat": 4,
  "nbformat_minor": 0,
  "metadata": {
    "colab": {
      "provenance": []
    },
    "kernelspec": {
      "name": "python3",
      "display_name": "Python 3"
    },
    "language_info": {
      "name": "python"
    }
  },
  "cells": [
    {
      "cell_type": "code",
      "execution_count": null,
      "metadata": {
        "colab": {
          "base_uri": "https://localhost:8080/"
        },
        "id": "IHSJb5mJLhMi",
        "outputId": "089f7bc5-cef8-4098-db9b-9586e7d72441"
      },
      "outputs": [
        {
          "output_type": "stream",
          "name": "stdout",
          "text": [
            "   age  gender   genre\n",
            "0   20       1  HipHop\n",
            "1   23       1  HipHop\n",
            "2   25       1  HipHop\n",
            "3   26       1    Jazz\n",
            "4   29       1    Jazz\n"
          ]
        }
      ],
      "source": [
        "import pandas as pd\n",
        "from sklearn.model_selection import train_test_split\n",
        "from sklearn.metrics import accuracy_score\n",
        "import tree\n",
        "\n",
        "df = pd.read_csv(\"music.csv\")\n",
        "df=pd.read_csv('music.csv')\n",
        "print(df.head(n=5))\n",
        "x=df.drop(columns=['genre'])\n",
        "y=df['genre']\n",
        "\n",
        "training_set, test_set = train_test_split(df, test_size = 0.2, random_state = 1)"
      ]
    },
    {
      "cell_type": "code",
      "source": [
        "x_train = training_set.iloc[:,0:2].values\n",
        "y_train = training_set.iloc[:,2].values\n",
        "x_test = test_set.iloc[:,0:2].values\n",
        "y_test = test_set.iloc[:,2].values"
      ],
      "metadata": {
        "id": "TDTo8ZkYNvp4"
      },
      "execution_count": null,
      "outputs": []
    },
    {
      "cell_type": "code",
      "source": [
        "from sklearn.svm import SVC\n",
        "classifier = SVC(kernel='rbf', random_state = 1)\n",
        "classifier.fit(x_train,y_train)"
      ],
      "metadata": {
        "colab": {
          "base_uri": "https://localhost:8080/"
        },
        "id": "bbTNcZUDMaph",
        "outputId": "d22cc18f-55d9-41a0-9a40-8d67df2e0dd1"
      },
      "execution_count": null,
      "outputs": [
        {
          "output_type": "execute_result",
          "data": {
            "text/plain": [
              "SVC(random_state=1)"
            ]
          },
          "metadata": {},
          "execution_count": 4
        }
      ]
    },
    {
      "cell_type": "code",
      "source": [
        "Y_pred = classifier.predict([[21 , 0]])\n",
        "print(\"Predicted Genre is :\",Y_pred)"
      ],
      "metadata": {
        "colab": {
          "base_uri": "https://localhost:8080/"
        },
        "id": "_rcKUisQMn_B",
        "outputId": "6ad427da-5633-4dc2-ed91-bb3c2abac443"
      },
      "execution_count": null,
      "outputs": [
        {
          "output_type": "stream",
          "name": "stdout",
          "text": [
            "Predicted Genre is : ['Dance']\n"
          ]
        }
      ]
    }
  ]
}